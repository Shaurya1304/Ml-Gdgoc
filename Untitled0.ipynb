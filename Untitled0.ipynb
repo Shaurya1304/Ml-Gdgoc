{
  "nbformat": 4,
  "nbformat_minor": 0,
  "metadata": {
    "colab": {
      "provenance": []
    },
    "kernelspec": {
      "name": "python3",
      "display_name": "Python 3"
    },
    "language_info": {
      "name": "python"
    }
  },
  "cells": [
    {
      "cell_type": "code",
      "execution_count": 27,
      "metadata": {
        "colab": {
          "base_uri": "https://localhost:8080/"
        },
        "id": "ReZipOfbVrxg",
        "outputId": "0cadd849-90c8-410c-8289-5921da13b8aa"
      },
      "outputs": [
        {
          "output_type": "stream",
          "name": "stdout",
          "text": [
            "/content/indiancrop_dataset.csv\n",
            "/content/.config/active_config\n",
            "/content/.config/hidden_gcloud_config_universe_descriptor_data_cache_configs.db\n",
            "/content/.config/.last_opt_in_prompt.yaml\n",
            "/content/.config/config_sentinel\n",
            "/content/.config/.last_survey_prompt.yaml\n",
            "/content/.config/.last_update_check.json\n",
            "/content/.config/default_configs.db\n",
            "/content/.config/gce\n",
            "/content/.config/configurations/config_default\n",
            "/content/.config/logs/2024.09.24/13.22.46.369270.log\n",
            "/content/.config/logs/2024.09.24/13.22.12.982241.log\n",
            "/content/.config/logs/2024.09.24/13.22.59.688995.log\n",
            "/content/.config/logs/2024.09.24/13.22.34.727644.log\n",
            "/content/.config/logs/2024.09.24/13.22.47.407579.log\n",
            "/content/.config/logs/2024.09.24/13.22.59.019623.log\n",
            "/content/sample_data/README.md\n",
            "/content/sample_data/anscombe.json\n",
            "/content/sample_data/mnist_test.csv\n",
            "/content/sample_data/california_housing_train.csv\n",
            "/content/sample_data/mnist_train_small.csv\n",
            "/content/sample_data/california_housing_test.csv\n",
            "<class 'pandas.core.frame.DataFrame'>\n",
            "RangeIndex: 2200 entries, 0 to 2199\n",
            "Data columns (total 10 columns):\n",
            " #   Column       Non-Null Count  Dtype  \n",
            "---  ------       --------------  -----  \n",
            " 0   N_SOIL       2200 non-null   int64  \n",
            " 1   P_SOIL       2200 non-null   int64  \n",
            " 2   K_SOIL       2200 non-null   int64  \n",
            " 3   TEMPERATURE  2200 non-null   float64\n",
            " 4   HUMIDITY     2200 non-null   float64\n",
            " 5   ph           2200 non-null   float64\n",
            " 6   RAINFALL     2200 non-null   float64\n",
            " 7   STATE        2200 non-null   object \n",
            " 8   CROP_PRICE   2200 non-null   int64  \n",
            " 9   CROP         2200 non-null   object \n",
            "dtypes: float64(4), int64(4), object(2)\n",
            "memory usage: 172.0+ KB\n",
            "Index(['N_SOIL', 'P_SOIL', 'K_SOIL', 'TEMPERATURE', 'HUMIDITY', 'ph',\n",
            "       'RAINFALL', 'STATE', 'CROP_PRICE', 'CROP'],\n",
            "      dtype='object')\n"
          ]
        }
      ],
      "source": [
        "import pandas as pd\n",
        "import numpy as np\n",
        "import os\n",
        "for dirname, _, filenames in os.walk(r'/content'):\n",
        "    for filename in filenames:\n",
        "        print(os.path.join(dirname, filename))\n",
        "\n",
        "cp = pd.read_csv(r\"/content/indiancrop_dataset.csv\")\n",
        "cp.head()\n",
        "cp.info()\n",
        "\n",
        "cp.duplicated().sum()\n",
        "cp.isnull().sum()\n",
        "\n",
        "cp.describe()\n",
        "cp.value_counts()\n",
        "print(cp.columns)\n",
        "\n",
        "cp['CROP'].unique()\n",
        "cp_dir = {\n",
        "    'Rice':1,\n",
        "    'Maize':2,\n",
        "    'ChickPea':3,\n",
        "    'KidneyBeans':4,\n",
        "    'PigeonPeas':5,\n",
        "    'MothBeans':6 ,\n",
        "    'MungBean':7 ,\n",
        "    'Blackgram':8,\n",
        "    'Lentil':9,\n",
        "    'Pomegranate':10,\n",
        "    'Banana': 11,\n",
        "    'Mango': 12,\n",
        "    'Grapes': 13,\n",
        "    'Watermelon':14,\n",
        "    'Muskmelon':15,\n",
        "    'Apple':16,\n",
        "    'Orange':17,\n",
        "    'Papaya':18,\n",
        "    'Coconut':19,\n",
        "    'Cotton':20,\n",
        "    'Jute':21,\n",
        "    'Coffee':22\n",
        "}\n",
        "\n",
        "cp['CROP'] = cp['CROP'].map(cp_dir)\n",
        "cp['CROP'].unique()\n",
        "\n",
        "x = cp.drop('CROP', axis = 1)\n",
        "y = cp['CROP']"
      ]
    },
    {
      "cell_type": "code",
      "source": [
        "from sklearn.model_selection import train_test_split\n",
        "x_train,x_test,y_train,y_test = train_test_split(x,y,test_size= 0.2,random_state=42)\n",
        "x_train.shape\n",
        "\n",
        "from sklearn.preprocessing import OneHotEncoder,StandardScaler\n",
        "from sklearn.compose import ColumnTransformer\n",
        "ohe = OneHotEncoder(drop = 'first')\n",
        "scaler = StandardScaler()\n",
        "print(x_train.head(1))\n",
        "preprocessor = ColumnTransformer(\n",
        "    transformers = [\n",
        "        ('encoder', ohe, [7]),\n",
        "        ('stndrlstn', scaler,[0,1,2,3,4,5,6,8])\n",
        "    ],\n",
        "    remainder = 'passthrough'\n",
        ")\n",
        "\n",
        "x_train_dummy = preprocessor.fit_transform(x_train)\n",
        "x_test_dummy = preprocessor.transform(x_test)"
      ],
      "metadata": {
        "colab": {
          "base_uri": "https://localhost:8080/"
        },
        "id": "GX2AhJEQtvid",
        "outputId": "82589ca5-8b49-4ced-902a-30b84430a1f2"
      },
      "execution_count": 24,
      "outputs": [
        {
          "output_type": "stream",
          "name": "stdout",
          "text": [
            "      N_SOIL  P_SOIL  K_SOIL  TEMPERATURE   HUMIDITY        ph    RAINFALL  \\\n",
            "1656      17      16      14    16.396243  92.181519  6.625539  102.944161   \n",
            "\n",
            "              STATE  CROP_PRICE  \n",
            "1656  Uttar Pradesh        2500  \n"
          ]
        }
      ]
    },
    {
      "cell_type": "code",
      "source": [
        "# from sklearn.linear_model import LinearRegression\n",
        "from sklearn.tree import DecisionTreeClassifier\n",
        "from sklearn.metrics import accuracy_score\n",
        "\n",
        "\n",
        "models = {\n",
        "    # 'LR': LinearRegression(),\n",
        "    'Decision Tree': DecisionTreeClassifier(),\n",
        "}\n",
        "\n",
        "for name, model in models.items():\n",
        "    model.fit(x_train_dummy,y_train)\n",
        "    y_pred = model.predict(x_test_dummy)\n",
        "    score = accuracy_score(y_test,y_pred)\n",
        "    print(f\"{name} model with accuracy. {score}\")"
      ],
      "metadata": {
        "colab": {
          "base_uri": "https://localhost:8080/"
        },
        "id": "wp7nLh17wT2n",
        "outputId": "16eb56e6-fc55-451e-f6ff-6ee80e28b71b"
      },
      "execution_count": 25,
      "outputs": [
        {
          "output_type": "stream",
          "name": "stdout",
          "text": [
            "Decision Tree model with accuracy. 0.9931818181818182\n"
          ]
        }
      ]
    },
    {
      "cell_type": "code",
      "source": [
        "dct = DecisionTreeClassifier()\n",
        "dct.fit(x_train_dummy, y_train)\n",
        "y_pred = dct.predict(x_test_dummy)\n",
        "accuracy_score(y_test, y_pred)"
      ],
      "metadata": {
        "colab": {
          "base_uri": "https://localhost:8080/"
        },
        "id": "17zxXXXo2ZBq",
        "outputId": "2354e895-50f9-4ed0-d586-2d455e95a936"
      },
      "execution_count": 11,
      "outputs": [
        {
          "output_type": "execute_result",
          "data": {
            "text/plain": [
              "0.990909090909091"
            ]
          },
          "metadata": {},
          "execution_count": 11
        }
      ]
    },
    {
      "cell_type": "code",
      "source": [
        "def prediction(N_SOIL,P_SOIL,K_SOIL,TEMPERATURE,HUMIDITY,ph,RAINFALL,STATE,CROP_PRICE):\n",
        "    features = np.array([[N_SOIL,P_SOIL,K_SOIL,TEMPERATURE,HUMIDITY,ph,RAINFALL,STATE,CROP_PRICE]])\n",
        "    scaled = preprocessor.transform(features)\n",
        "    prediction_val = dct.predict(scaled).reshape(1,-1)\n",
        "    return prediction_val[0]\n",
        "\n",
        "N_SOIL = 0\n",
        "P_SOIL = 23\n",
        "K_SOIL = 15\n",
        "TEMPERATURE = 22.56664172\n",
        "HUMIDITY = 93.37488907\n",
        "ph = 7.598729065\n",
        "RAINFALL = 109.8585753\n",
        "STATE = \"Uttar Pradesh\"\n",
        "CROP_PRICE = 500\n",
        "\n",
        "result = prediction(N_SOIL,P_SOIL,K_SOIL,TEMPERATURE,HUMIDITY,ph,RAINFALL,STATE,CROP_PRICE)\n",
        "value_to_find = result\n",
        "keys_with_value = [key for key, value in cp_dir.items() if value == value_to_find]\n",
        "print(keys_with_value)"
      ],
      "metadata": {
        "colab": {
          "base_uri": "https://localhost:8080/"
        },
        "id": "mDjQQ2PQ26_z",
        "outputId": "82df352e-47c7-4d0f-d94f-bb2cfc755430"
      },
      "execution_count": 31,
      "outputs": [
        {
          "output_type": "stream",
          "name": "stdout",
          "text": [
            "['Orange']\n"
          ]
        },
        {
          "output_type": "stream",
          "name": "stderr",
          "text": [
            "/usr/local/lib/python3.10/dist-packages/sklearn/base.py:493: UserWarning: X does not have valid feature names, but OneHotEncoder was fitted with feature names\n",
            "  warnings.warn(\n",
            "/usr/local/lib/python3.10/dist-packages/sklearn/base.py:493: UserWarning: X does not have valid feature names, but StandardScaler was fitted with feature names\n",
            "  warnings.warn(\n"
          ]
        }
      ]
    },
    {
      "cell_type": "code",
      "source": [
        "import pickle\n",
        "pickle.dump(dct,open('ForGdgoc.pkl','wb'))\n",
        "pickle.dump(preprocessor,open('preprocessor.pkl','wb'))"
      ],
      "metadata": {
        "id": "PXEw8hWWv7TE"
      },
      "execution_count": 34,
      "outputs": []
    }
  ]
}